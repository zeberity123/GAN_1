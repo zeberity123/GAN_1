{
  "nbformat": 4,
  "nbformat_minor": 0,
  "metadata": {
    "colab": {
      "provenance": []
    },
    "kernelspec": {
      "name": "python3",
      "display_name": "Python 3"
    },
    "language_info": {
      "name": "python"
    },
    "accelerator": "TPU"
  },
  "cells": [
    {
      "cell_type": "code",
      "execution_count": 1,
      "metadata": {
        "id": "2QR4x5Jqvh8c"
      },
      "outputs": [],
      "source": [
        "import numpy as np\n",
        "import matplotlib.pyplot as plt\n",
        "from keras.layers import Input, Dense\n",
        "from keras.models import Model\n",
        "from keras.datasets import mnist"
      ]
    },
    {
      "cell_type": "code",
      "source": [
        "# Data Load\n",
        "(x_train, _), (x_test, _) = mnist.load_data()"
      ],
      "metadata": {
        "colab": {
          "base_uri": "https://localhost:8080/"
        },
        "id": "qujfiVmpAZwg",
        "outputId": "467edfb3-a7b1-4406-a041-22b5d7c71aca"
      },
      "execution_count": 2,
      "outputs": [
        {
          "output_type": "stream",
          "name": "stdout",
          "text": [
            "Downloading data from https://storage.googleapis.com/tensorflow/tf-keras-datasets/mnist.npz\n",
            "11490434/11490434 [==============================] - 0s 0us/step\n"
          ]
        }
      ]
    },
    {
      "cell_type": "code",
      "source": [
        "# Data preprocessing\n",
        "# data norm\n",
        "x_train = x_train.astype('float32') / 255.\n",
        "x_test = x_test.astype('float32') / 255.\n",
        "x_train[0]"
      ],
      "metadata": {
        "colab": {
          "base_uri": "https://localhost:8080/"
        },
        "id": "Az95PWZSAhNR",
        "outputId": "3d619e34-173a-4d97-b71c-cacae5f275fc"
      },
      "execution_count": 3,
      "outputs": [
        {
          "output_type": "execute_result",
          "data": {
            "text/plain": [
              "array([[0.        , 0.        , 0.        , 0.        , 0.        ,\n",
              "        0.        , 0.        , 0.        , 0.        , 0.        ,\n",
              "        0.        , 0.        , 0.        , 0.        , 0.        ,\n",
              "        0.        , 0.        , 0.        , 0.        , 0.        ,\n",
              "        0.        , 0.        , 0.        , 0.        , 0.        ,\n",
              "        0.        , 0.        , 0.        ],\n",
              "       [0.        , 0.        , 0.        , 0.        , 0.        ,\n",
              "        0.        , 0.        , 0.        , 0.        , 0.        ,\n",
              "        0.        , 0.        , 0.        , 0.        , 0.        ,\n",
              "        0.        , 0.        , 0.        , 0.        , 0.        ,\n",
              "        0.        , 0.        , 0.        , 0.        , 0.        ,\n",
              "        0.        , 0.        , 0.        ],\n",
              "       [0.        , 0.        , 0.        , 0.        , 0.        ,\n",
              "        0.        , 0.        , 0.        , 0.        , 0.        ,\n",
              "        0.        , 0.        , 0.        , 0.        , 0.        ,\n",
              "        0.        , 0.        , 0.        , 0.        , 0.        ,\n",
              "        0.        , 0.        , 0.        , 0.        , 0.        ,\n",
              "        0.        , 0.        , 0.        ],\n",
              "       [0.        , 0.        , 0.        , 0.        , 0.        ,\n",
              "        0.        , 0.        , 0.        , 0.        , 0.        ,\n",
              "        0.        , 0.        , 0.        , 0.        , 0.        ,\n",
              "        0.        , 0.        , 0.        , 0.        , 0.        ,\n",
              "        0.        , 0.        , 0.        , 0.        , 0.        ,\n",
              "        0.        , 0.        , 0.        ],\n",
              "       [0.        , 0.        , 0.        , 0.        , 0.        ,\n",
              "        0.        , 0.        , 0.        , 0.        , 0.        ,\n",
              "        0.        , 0.        , 0.        , 0.        , 0.        ,\n",
              "        0.        , 0.        , 0.        , 0.        , 0.        ,\n",
              "        0.        , 0.        , 0.        , 0.        , 0.        ,\n",
              "        0.        , 0.        , 0.        ],\n",
              "       [0.        , 0.        , 0.        , 0.        , 0.        ,\n",
              "        0.        , 0.        , 0.        , 0.        , 0.        ,\n",
              "        0.        , 0.        , 0.01176471, 0.07058824, 0.07058824,\n",
              "        0.07058824, 0.49411765, 0.53333336, 0.6862745 , 0.10196079,\n",
              "        0.6509804 , 1.        , 0.96862745, 0.49803922, 0.        ,\n",
              "        0.        , 0.        , 0.        ],\n",
              "       [0.        , 0.        , 0.        , 0.        , 0.        ,\n",
              "        0.        , 0.        , 0.        , 0.11764706, 0.14117648,\n",
              "        0.36862746, 0.6039216 , 0.6666667 , 0.99215686, 0.99215686,\n",
              "        0.99215686, 0.99215686, 0.99215686, 0.88235295, 0.6745098 ,\n",
              "        0.99215686, 0.9490196 , 0.7647059 , 0.2509804 , 0.        ,\n",
              "        0.        , 0.        , 0.        ],\n",
              "       [0.        , 0.        , 0.        , 0.        , 0.        ,\n",
              "        0.        , 0.        , 0.19215687, 0.93333334, 0.99215686,\n",
              "        0.99215686, 0.99215686, 0.99215686, 0.99215686, 0.99215686,\n",
              "        0.99215686, 0.99215686, 0.9843137 , 0.3647059 , 0.32156864,\n",
              "        0.32156864, 0.21960784, 0.15294118, 0.        , 0.        ,\n",
              "        0.        , 0.        , 0.        ],\n",
              "       [0.        , 0.        , 0.        , 0.        , 0.        ,\n",
              "        0.        , 0.        , 0.07058824, 0.85882354, 0.99215686,\n",
              "        0.99215686, 0.99215686, 0.99215686, 0.99215686, 0.7764706 ,\n",
              "        0.7137255 , 0.96862745, 0.94509804, 0.        , 0.        ,\n",
              "        0.        , 0.        , 0.        , 0.        , 0.        ,\n",
              "        0.        , 0.        , 0.        ],\n",
              "       [0.        , 0.        , 0.        , 0.        , 0.        ,\n",
              "        0.        , 0.        , 0.        , 0.3137255 , 0.6117647 ,\n",
              "        0.41960785, 0.99215686, 0.99215686, 0.8039216 , 0.04313726,\n",
              "        0.        , 0.16862746, 0.6039216 , 0.        , 0.        ,\n",
              "        0.        , 0.        , 0.        , 0.        , 0.        ,\n",
              "        0.        , 0.        , 0.        ],\n",
              "       [0.        , 0.        , 0.        , 0.        , 0.        ,\n",
              "        0.        , 0.        , 0.        , 0.        , 0.05490196,\n",
              "        0.00392157, 0.6039216 , 0.99215686, 0.3529412 , 0.        ,\n",
              "        0.        , 0.        , 0.        , 0.        , 0.        ,\n",
              "        0.        , 0.        , 0.        , 0.        , 0.        ,\n",
              "        0.        , 0.        , 0.        ],\n",
              "       [0.        , 0.        , 0.        , 0.        , 0.        ,\n",
              "        0.        , 0.        , 0.        , 0.        , 0.        ,\n",
              "        0.        , 0.54509807, 0.99215686, 0.74509805, 0.00784314,\n",
              "        0.        , 0.        , 0.        , 0.        , 0.        ,\n",
              "        0.        , 0.        , 0.        , 0.        , 0.        ,\n",
              "        0.        , 0.        , 0.        ],\n",
              "       [0.        , 0.        , 0.        , 0.        , 0.        ,\n",
              "        0.        , 0.        , 0.        , 0.        , 0.        ,\n",
              "        0.        , 0.04313726, 0.74509805, 0.99215686, 0.27450982,\n",
              "        0.        , 0.        , 0.        , 0.        , 0.        ,\n",
              "        0.        , 0.        , 0.        , 0.        , 0.        ,\n",
              "        0.        , 0.        , 0.        ],\n",
              "       [0.        , 0.        , 0.        , 0.        , 0.        ,\n",
              "        0.        , 0.        , 0.        , 0.        , 0.        ,\n",
              "        0.        , 0.        , 0.13725491, 0.94509804, 0.88235295,\n",
              "        0.627451  , 0.42352942, 0.00392157, 0.        , 0.        ,\n",
              "        0.        , 0.        , 0.        , 0.        , 0.        ,\n",
              "        0.        , 0.        , 0.        ],\n",
              "       [0.        , 0.        , 0.        , 0.        , 0.        ,\n",
              "        0.        , 0.        , 0.        , 0.        , 0.        ,\n",
              "        0.        , 0.        , 0.        , 0.31764707, 0.9411765 ,\n",
              "        0.99215686, 0.99215686, 0.46666667, 0.09803922, 0.        ,\n",
              "        0.        , 0.        , 0.        , 0.        , 0.        ,\n",
              "        0.        , 0.        , 0.        ],\n",
              "       [0.        , 0.        , 0.        , 0.        , 0.        ,\n",
              "        0.        , 0.        , 0.        , 0.        , 0.        ,\n",
              "        0.        , 0.        , 0.        , 0.        , 0.1764706 ,\n",
              "        0.7294118 , 0.99215686, 0.99215686, 0.5882353 , 0.10588235,\n",
              "        0.        , 0.        , 0.        , 0.        , 0.        ,\n",
              "        0.        , 0.        , 0.        ],\n",
              "       [0.        , 0.        , 0.        , 0.        , 0.        ,\n",
              "        0.        , 0.        , 0.        , 0.        , 0.        ,\n",
              "        0.        , 0.        , 0.        , 0.        , 0.        ,\n",
              "        0.0627451 , 0.3647059 , 0.9882353 , 0.99215686, 0.73333335,\n",
              "        0.        , 0.        , 0.        , 0.        , 0.        ,\n",
              "        0.        , 0.        , 0.        ],\n",
              "       [0.        , 0.        , 0.        , 0.        , 0.        ,\n",
              "        0.        , 0.        , 0.        , 0.        , 0.        ,\n",
              "        0.        , 0.        , 0.        , 0.        , 0.        ,\n",
              "        0.        , 0.        , 0.9764706 , 0.99215686, 0.9764706 ,\n",
              "        0.2509804 , 0.        , 0.        , 0.        , 0.        ,\n",
              "        0.        , 0.        , 0.        ],\n",
              "       [0.        , 0.        , 0.        , 0.        , 0.        ,\n",
              "        0.        , 0.        , 0.        , 0.        , 0.        ,\n",
              "        0.        , 0.        , 0.        , 0.        , 0.18039216,\n",
              "        0.50980395, 0.7176471 , 0.99215686, 0.99215686, 0.8117647 ,\n",
              "        0.00784314, 0.        , 0.        , 0.        , 0.        ,\n",
              "        0.        , 0.        , 0.        ],\n",
              "       [0.        , 0.        , 0.        , 0.        , 0.        ,\n",
              "        0.        , 0.        , 0.        , 0.        , 0.        ,\n",
              "        0.        , 0.        , 0.15294118, 0.5803922 , 0.8980392 ,\n",
              "        0.99215686, 0.99215686, 0.99215686, 0.98039216, 0.7137255 ,\n",
              "        0.        , 0.        , 0.        , 0.        , 0.        ,\n",
              "        0.        , 0.        , 0.        ],\n",
              "       [0.        , 0.        , 0.        , 0.        , 0.        ,\n",
              "        0.        , 0.        , 0.        , 0.        , 0.        ,\n",
              "        0.09411765, 0.44705883, 0.8666667 , 0.99215686, 0.99215686,\n",
              "        0.99215686, 0.99215686, 0.7882353 , 0.30588236, 0.        ,\n",
              "        0.        , 0.        , 0.        , 0.        , 0.        ,\n",
              "        0.        , 0.        , 0.        ],\n",
              "       [0.        , 0.        , 0.        , 0.        , 0.        ,\n",
              "        0.        , 0.        , 0.        , 0.09019608, 0.25882354,\n",
              "        0.8352941 , 0.99215686, 0.99215686, 0.99215686, 0.99215686,\n",
              "        0.7764706 , 0.31764707, 0.00784314, 0.        , 0.        ,\n",
              "        0.        , 0.        , 0.        , 0.        , 0.        ,\n",
              "        0.        , 0.        , 0.        ],\n",
              "       [0.        , 0.        , 0.        , 0.        , 0.        ,\n",
              "        0.        , 0.07058824, 0.67058825, 0.85882354, 0.99215686,\n",
              "        0.99215686, 0.99215686, 0.99215686, 0.7647059 , 0.3137255 ,\n",
              "        0.03529412, 0.        , 0.        , 0.        , 0.        ,\n",
              "        0.        , 0.        , 0.        , 0.        , 0.        ,\n",
              "        0.        , 0.        , 0.        ],\n",
              "       [0.        , 0.        , 0.        , 0.        , 0.21568628,\n",
              "        0.6745098 , 0.8862745 , 0.99215686, 0.99215686, 0.99215686,\n",
              "        0.99215686, 0.95686275, 0.52156866, 0.04313726, 0.        ,\n",
              "        0.        , 0.        , 0.        , 0.        , 0.        ,\n",
              "        0.        , 0.        , 0.        , 0.        , 0.        ,\n",
              "        0.        , 0.        , 0.        ],\n",
              "       [0.        , 0.        , 0.        , 0.        , 0.53333336,\n",
              "        0.99215686, 0.99215686, 0.99215686, 0.83137256, 0.5294118 ,\n",
              "        0.5176471 , 0.0627451 , 0.        , 0.        , 0.        ,\n",
              "        0.        , 0.        , 0.        , 0.        , 0.        ,\n",
              "        0.        , 0.        , 0.        , 0.        , 0.        ,\n",
              "        0.        , 0.        , 0.        ],\n",
              "       [0.        , 0.        , 0.        , 0.        , 0.        ,\n",
              "        0.        , 0.        , 0.        , 0.        , 0.        ,\n",
              "        0.        , 0.        , 0.        , 0.        , 0.        ,\n",
              "        0.        , 0.        , 0.        , 0.        , 0.        ,\n",
              "        0.        , 0.        , 0.        , 0.        , 0.        ,\n",
              "        0.        , 0.        , 0.        ],\n",
              "       [0.        , 0.        , 0.        , 0.        , 0.        ,\n",
              "        0.        , 0.        , 0.        , 0.        , 0.        ,\n",
              "        0.        , 0.        , 0.        , 0.        , 0.        ,\n",
              "        0.        , 0.        , 0.        , 0.        , 0.        ,\n",
              "        0.        , 0.        , 0.        , 0.        , 0.        ,\n",
              "        0.        , 0.        , 0.        ],\n",
              "       [0.        , 0.        , 0.        , 0.        , 0.        ,\n",
              "        0.        , 0.        , 0.        , 0.        , 0.        ,\n",
              "        0.        , 0.        , 0.        , 0.        , 0.        ,\n",
              "        0.        , 0.        , 0.        , 0.        , 0.        ,\n",
              "        0.        , 0.        , 0.        , 0.        , 0.        ,\n",
              "        0.        , 0.        , 0.        ]], dtype=float32)"
            ]
          },
          "metadata": {},
          "execution_count": 3
        }
      ]
    },
    {
      "cell_type": "code",
      "source": [
        "# data flatten\n",
        "print('flatten 전 shape : ', x_train.shape, x_test.shape)\n",
        "x_train = x_train.reshape((len(x_train), np.prod(x_train.shape[1:])))\n",
        "x_test = x_test.reshape((len(x_test), np.prod(x_test.shape[1:])))\n",
        "print('flatten 후 shape : ', x_train.shape, x_test.shape)"
      ],
      "metadata": {
        "colab": {
          "base_uri": "https://localhost:8080/"
        },
        "id": "L63ejsjyAvxK",
        "outputId": "33f7afcb-2f18-49a6-c578-57f84e80ab41"
      },
      "execution_count": 4,
      "outputs": [
        {
          "output_type": "stream",
          "name": "stdout",
          "text": [
            "flatten 전 shape :  (60000, 28, 28) (10000, 28, 28)\n",
            "flatten 후 shape :  (60000, 784) (10000, 784)\n"
          ]
        }
      ]
    },
    {
      "cell_type": "code",
      "source": [
        "# model\n",
        "input_img = Input(shape=(784, ))\n",
        "\n",
        "encoded = Dense(128, activation='relu')(input_img)\n",
        "encoded = Dense(64, activation = 'relu')(encoded)\n",
        "encoded = Dense(32, activation = 'relu')(encoded)\n",
        "\n",
        "decoded = Dense(64, activation = 'relu')(encoded)\n",
        "decoded = Dense(128, activation = 'relu')(decoded)\n",
        "decoded = Dense(784, activation = 'relu')(decoded)"
      ],
      "metadata": {
        "id": "J6w5XN8zBIyc"
      },
      "execution_count": 6,
      "outputs": []
    },
    {
      "cell_type": "code",
      "source": [
        "autoencoder = Model(inputs = input_img, outputs=decoded)\n",
        "autoencoder.summary()"
      ],
      "metadata": {
        "colab": {
          "base_uri": "https://localhost:8080/"
        },
        "id": "VVCVz1VaD5iw",
        "outputId": "b0ab7654-92f0-485c-f5f0-7d4cedbfc1c6"
      },
      "execution_count": 7,
      "outputs": [
        {
          "output_type": "stream",
          "name": "stdout",
          "text": [
            "Model: \"model\"\n",
            "_________________________________________________________________\n",
            " Layer (type)                Output Shape              Param #   \n",
            "=================================================================\n",
            " input_2 (InputLayer)        [(None, 784)]             0         \n",
            "                                                                 \n",
            " dense_6 (Dense)             (None, 128)               100480    \n",
            "                                                                 \n",
            " dense_7 (Dense)             (None, 64)                8256      \n",
            "                                                                 \n",
            " dense_8 (Dense)             (None, 32)                2080      \n",
            "                                                                 \n",
            " dense_9 (Dense)             (None, 64)                2112      \n",
            "                                                                 \n",
            " dense_10 (Dense)            (None, 128)               8320      \n",
            "                                                                 \n",
            " dense_11 (Dense)            (None, 784)               101136    \n",
            "                                                                 \n",
            "=================================================================\n",
            "Total params: 222,384\n",
            "Trainable params: 222,384\n",
            "Non-trainable params: 0\n",
            "_________________________________________________________________\n"
          ]
        }
      ]
    },
    {
      "cell_type": "code",
      "source": [
        "encoder = Model(inputs = input_img, outputs = encoded)\n",
        "encoder.summary()"
      ],
      "metadata": {
        "colab": {
          "base_uri": "https://localhost:8080/"
        },
        "id": "U_EtnxDGED1b",
        "outputId": "160aac2a-2672-4dba-fbd6-d03f026d4ba7"
      },
      "execution_count": 8,
      "outputs": [
        {
          "output_type": "stream",
          "name": "stdout",
          "text": [
            "Model: \"model_1\"\n",
            "_________________________________________________________________\n",
            " Layer (type)                Output Shape              Param #   \n",
            "=================================================================\n",
            " input_2 (InputLayer)        [(None, 784)]             0         \n",
            "                                                                 \n",
            " dense_6 (Dense)             (None, 128)               100480    \n",
            "                                                                 \n",
            " dense_7 (Dense)             (None, 64)                8256      \n",
            "                                                                 \n",
            " dense_8 (Dense)             (None, 32)                2080      \n",
            "                                                                 \n",
            "=================================================================\n",
            "Total params: 110,816\n",
            "Trainable params: 110,816\n",
            "Non-trainable params: 0\n",
            "_________________________________________________________________\n"
          ]
        }
      ]
    },
    {
      "cell_type": "code",
      "source": [
        "autoencoder.compile(loss='binary_crossentropy', optimizer='adam')"
      ],
      "metadata": {
        "id": "9VnonJLtEJ-A"
      },
      "execution_count": 9,
      "outputs": []
    },
    {
      "cell_type": "code",
      "source": [
        "autoencoder.fit(x_train, x_train, epochs=100,\n",
        "                batch_size=128, shuffle=True,\n",
        "                validation_data=(x_test,x_test))"
      ],
      "metadata": {
        "colab": {
          "base_uri": "https://localhost:8080/"
        },
        "id": "iqoTNBDmF8_V",
        "outputId": "fc41c291-c426-481d-fc04-d472ab300464"
      },
      "execution_count": 11,
      "outputs": [
        {
          "output_type": "stream",
          "name": "stdout",
          "text": [
            "Epoch 1/100\n",
            "469/469 [==============================] - 10s 16ms/step - loss: 0.4164 - val_loss: 0.3652\n",
            "Epoch 2/100\n",
            "469/469 [==============================] - 7s 15ms/step - loss: 0.3159 - val_loss: 0.2999\n",
            "Epoch 3/100\n",
            "469/469 [==============================] - 8s 16ms/step - loss: 0.2904 - val_loss: 0.2824\n",
            "Epoch 4/100\n",
            "469/469 [==============================] - 7s 15ms/step - loss: 0.2825 - val_loss: 0.2865\n",
            "Epoch 5/100\n",
            "469/469 [==============================] - 8s 17ms/step - loss: 0.2695 - val_loss: 0.2591\n",
            "Epoch 6/100\n",
            "469/469 [==============================] - 6s 13ms/step - loss: 0.2628 - val_loss: 0.2552\n",
            "Epoch 7/100\n",
            "469/469 [==============================] - 8s 16ms/step - loss: 0.2667 - val_loss: 0.2563\n",
            "Epoch 8/100\n",
            "469/469 [==============================] - 7s 15ms/step - loss: 0.2488 - val_loss: 0.2317\n",
            "Epoch 9/100\n",
            "469/469 [==============================] - 7s 16ms/step - loss: 0.2426 - val_loss: 0.2313\n",
            "Epoch 10/100\n",
            "469/469 [==============================] - 8s 16ms/step - loss: 0.2414 - val_loss: 0.2314\n",
            "Epoch 11/100\n",
            "469/469 [==============================] - 8s 16ms/step - loss: 0.2450 - val_loss: 0.2314\n",
            "Epoch 12/100\n",
            "469/469 [==============================] - 9s 19ms/step - loss: 0.2720 - val_loss: 0.2429\n",
            "Epoch 13/100\n",
            "469/469 [==============================] - 8s 16ms/step - loss: 0.2500 - val_loss: 0.2534\n",
            "Epoch 14/100\n",
            "469/469 [==============================] - 7s 14ms/step - loss: 0.2515 - val_loss: 0.2513\n",
            "Epoch 15/100\n",
            "469/469 [==============================] - 7s 15ms/step - loss: 0.2467 - val_loss: 0.2420\n",
            "Epoch 16/100\n",
            "469/469 [==============================] - 7s 14ms/step - loss: 0.2352 - val_loss: 0.2327\n",
            "Epoch 17/100\n",
            "469/469 [==============================] - 8s 17ms/step - loss: 0.2373 - val_loss: 0.2329\n",
            "Epoch 18/100\n",
            "469/469 [==============================] - 7s 14ms/step - loss: 0.2366 - val_loss: 0.2320\n",
            "Epoch 19/100\n",
            "469/469 [==============================] - 8s 16ms/step - loss: 0.2388 - val_loss: 0.2241\n",
            "Epoch 20/100\n",
            "469/469 [==============================] - 7s 14ms/step - loss: 0.2369 - val_loss: 0.2322\n",
            "Epoch 21/100\n",
            "469/469 [==============================] - 8s 17ms/step - loss: 0.2342 - val_loss: 0.2413\n",
            "Epoch 22/100\n",
            "469/469 [==============================] - 6s 14ms/step - loss: 0.2526 - val_loss: 0.2554\n",
            "Epoch 23/100\n",
            "469/469 [==============================] - 7s 15ms/step - loss: 0.2408 - val_loss: 0.2291\n",
            "Epoch 24/100\n",
            "469/469 [==============================] - 7s 15ms/step - loss: 0.2358 - val_loss: 0.2503\n",
            "Epoch 25/100\n",
            "469/469 [==============================] - 7s 14ms/step - loss: 0.2340 - val_loss: 0.2259\n",
            "Epoch 26/100\n",
            "469/469 [==============================] - 8s 17ms/step - loss: 0.2335 - val_loss: 0.2342\n",
            "Epoch 27/100\n",
            "469/469 [==============================] - 6s 14ms/step - loss: 0.2372 - val_loss: 0.2298\n",
            "Epoch 28/100\n",
            "469/469 [==============================] - 8s 17ms/step - loss: 0.2292 - val_loss: 0.2240\n",
            "Epoch 29/100\n",
            "469/469 [==============================] - 6s 14ms/step - loss: 0.2296 - val_loss: 0.2236\n",
            "Epoch 30/100\n",
            "469/469 [==============================] - 7s 16ms/step - loss: 0.2339 - val_loss: 0.2298\n",
            "Epoch 31/100\n",
            "469/469 [==============================] - 7s 14ms/step - loss: 0.2318 - val_loss: 0.2277\n",
            "Epoch 32/100\n",
            "469/469 [==============================] - 7s 16ms/step - loss: 0.2341 - val_loss: 0.2419\n",
            "Epoch 33/100\n",
            "469/469 [==============================] - 6s 14ms/step - loss: 0.2379 - val_loss: 0.2344\n",
            "Epoch 34/100\n",
            "469/469 [==============================] - 7s 16ms/step - loss: 0.2354 - val_loss: 0.2320\n",
            "Epoch 35/100\n",
            "469/469 [==============================] - 7s 15ms/step - loss: 0.2306 - val_loss: 0.2243\n",
            "Epoch 36/100\n",
            "469/469 [==============================] - 7s 15ms/step - loss: 0.2413 - val_loss: 0.2424\n",
            "Epoch 37/100\n",
            "469/469 [==============================] - 7s 15ms/step - loss: 0.2411 - val_loss: 0.2319\n",
            "Epoch 38/100\n",
            "469/469 [==============================] - 7s 14ms/step - loss: 0.2362 - val_loss: 0.2323\n",
            "Epoch 39/100\n",
            "469/469 [==============================] - 8s 17ms/step - loss: 0.2451 - val_loss: 0.2342\n",
            "Epoch 40/100\n",
            "469/469 [==============================] - 7s 15ms/step - loss: 0.2475 - val_loss: 0.2423\n",
            "Epoch 41/100\n",
            "469/469 [==============================] - 7s 16ms/step - loss: 0.2453 - val_loss: 0.2419\n",
            "Epoch 42/100\n",
            "469/469 [==============================] - 7s 14ms/step - loss: 0.2440 - val_loss: 0.2464\n",
            "Epoch 43/100\n",
            "469/469 [==============================] - 8s 16ms/step - loss: 0.2445 - val_loss: 0.2459\n",
            "Epoch 44/100\n",
            "469/469 [==============================] - 7s 15ms/step - loss: 0.2332 - val_loss: 0.2273\n",
            "Epoch 45/100\n",
            "469/469 [==============================] - 7s 15ms/step - loss: 0.2390 - val_loss: 0.2260\n",
            "Epoch 46/100\n",
            "469/469 [==============================] - 7s 15ms/step - loss: 0.2333 - val_loss: 0.2249\n",
            "Epoch 47/100\n",
            "469/469 [==============================] - 7s 14ms/step - loss: 0.2370 - val_loss: 0.2286\n",
            "Epoch 48/100\n",
            "469/469 [==============================] - 8s 16ms/step - loss: 0.2338 - val_loss: 0.2518\n",
            "Epoch 49/100\n",
            "469/469 [==============================] - 6s 14ms/step - loss: 0.2348 - val_loss: 0.2311\n",
            "Epoch 50/100\n",
            "469/469 [==============================] - 8s 16ms/step - loss: 0.2283 - val_loss: 0.2188\n",
            "Epoch 51/100\n",
            "469/469 [==============================] - 7s 14ms/step - loss: 0.2237 - val_loss: 0.2201\n",
            "Epoch 52/100\n",
            "469/469 [==============================] - 7s 15ms/step - loss: 0.2250 - val_loss: 0.2171\n",
            "Epoch 53/100\n",
            "469/469 [==============================] - 6s 14ms/step - loss: 0.2186 - val_loss: 0.2143\n",
            "Epoch 54/100\n",
            "469/469 [==============================] - 8s 16ms/step - loss: 0.2277 - val_loss: 0.2401\n",
            "Epoch 55/100\n",
            "469/469 [==============================] - 7s 15ms/step - loss: 0.2377 - val_loss: 0.2249\n",
            "Epoch 56/100\n",
            "469/469 [==============================] - 7s 14ms/step - loss: 0.2296 - val_loss: 0.2196\n",
            "Epoch 57/100\n",
            "469/469 [==============================] - 7s 16ms/step - loss: 0.2295 - val_loss: 0.2546\n",
            "Epoch 58/100\n",
            "469/469 [==============================] - 6s 13ms/step - loss: 0.2425 - val_loss: 0.2341\n",
            "Epoch 59/100\n",
            "469/469 [==============================] - 7s 16ms/step - loss: 0.2521 - val_loss: 0.2371\n",
            "Epoch 60/100\n",
            "469/469 [==============================] - 7s 14ms/step - loss: 0.2429 - val_loss: 0.2504\n",
            "Epoch 61/100\n",
            "469/469 [==============================] - 7s 16ms/step - loss: 0.2314 - val_loss: 0.2249\n",
            "Epoch 62/100\n",
            "469/469 [==============================] - 6s 13ms/step - loss: 0.2370 - val_loss: 0.2317\n",
            "Epoch 63/100\n",
            "469/469 [==============================] - 8s 16ms/step - loss: 0.2387 - val_loss: 0.2475\n",
            "Epoch 64/100\n",
            "469/469 [==============================] - 6s 14ms/step - loss: 0.2436 - val_loss: 0.2399\n",
            "Epoch 65/100\n",
            "469/469 [==============================] - 8s 16ms/step - loss: 0.2338 - val_loss: 0.2259\n",
            "Epoch 66/100\n",
            "469/469 [==============================] - 7s 14ms/step - loss: 0.2363 - val_loss: 0.2404\n",
            "Epoch 67/100\n",
            "469/469 [==============================] - 7s 15ms/step - loss: 0.2363 - val_loss: 0.2286\n",
            "Epoch 68/100\n",
            "469/469 [==============================] - 7s 15ms/step - loss: 0.2442 - val_loss: 0.2332\n",
            "Epoch 69/100\n",
            "469/469 [==============================] - 7s 15ms/step - loss: 0.2358 - val_loss: 0.2428\n",
            "Epoch 70/100\n",
            "469/469 [==============================] - 8s 16ms/step - loss: 0.2378 - val_loss: 0.2357\n",
            "Epoch 71/100\n",
            "469/469 [==============================] - 6s 13ms/step - loss: 0.2444 - val_loss: 0.2330\n",
            "Epoch 72/100\n",
            "469/469 [==============================] - 8s 16ms/step - loss: 0.2378 - val_loss: 0.2370\n",
            "Epoch 73/100\n",
            "469/469 [==============================] - 6s 13ms/step - loss: 0.2384 - val_loss: 0.2304\n",
            "Epoch 74/100\n",
            "469/469 [==============================] - 7s 16ms/step - loss: 0.2348 - val_loss: 0.2378\n",
            "Epoch 75/100\n",
            "469/469 [==============================] - 6s 14ms/step - loss: 0.2306 - val_loss: 0.2299\n",
            "Epoch 76/100\n",
            "469/469 [==============================] - 8s 16ms/step - loss: 0.2320 - val_loss: 0.2579\n",
            "Epoch 77/100\n",
            "469/469 [==============================] - 6s 13ms/step - loss: 0.2401 - val_loss: 0.2400\n",
            "Epoch 78/100\n",
            "469/469 [==============================] - 11s 24ms/step - loss: 0.2472 - val_loss: 0.2343\n",
            "Epoch 79/100\n",
            "469/469 [==============================] - 12s 26ms/step - loss: 0.2375 - val_loss: 0.2344\n",
            "Epoch 80/100\n",
            "469/469 [==============================] - 10s 22ms/step - loss: 0.2443 - val_loss: 0.2319\n",
            "Epoch 81/100\n",
            "469/469 [==============================] - 7s 14ms/step - loss: 0.2350 - val_loss: 0.2312\n",
            "Epoch 82/100\n",
            "469/469 [==============================] - 7s 16ms/step - loss: 0.2302 - val_loss: 0.2265\n",
            "Epoch 83/100\n",
            "469/469 [==============================] - 7s 15ms/step - loss: 0.2329 - val_loss: 0.2363\n",
            "Epoch 84/100\n",
            "469/469 [==============================] - 7s 16ms/step - loss: 0.2346 - val_loss: 0.2371\n",
            "Epoch 85/100\n",
            "469/469 [==============================] - 8s 18ms/step - loss: 0.2332 - val_loss: 0.2244\n",
            "Epoch 86/100\n",
            "469/469 [==============================] - 12s 25ms/step - loss: 0.2326 - val_loss: 0.2299\n",
            "Epoch 87/100\n",
            "469/469 [==============================] - 12s 25ms/step - loss: 0.2294 - val_loss: 0.2235\n",
            "Epoch 88/100\n",
            "469/469 [==============================] - 14s 30ms/step - loss: 0.2361 - val_loss: 0.2332\n",
            "Epoch 89/100\n",
            "469/469 [==============================] - 12s 26ms/step - loss: 0.2421 - val_loss: 0.2558\n",
            "Epoch 90/100\n",
            "469/469 [==============================] - 11s 23ms/step - loss: 0.2415 - val_loss: 0.2385\n",
            "Epoch 91/100\n",
            "469/469 [==============================] - 13s 28ms/step - loss: 0.2381 - val_loss: 0.2364\n",
            "Epoch 92/100\n",
            "469/469 [==============================] - 12s 26ms/step - loss: 0.2367 - val_loss: 0.2344\n",
            "Epoch 93/100\n",
            "469/469 [==============================] - 12s 26ms/step - loss: 0.2284 - val_loss: 0.2229\n",
            "Epoch 94/100\n",
            "469/469 [==============================] - 13s 27ms/step - loss: 0.2393 - val_loss: 0.2351\n",
            "Epoch 95/100\n",
            "469/469 [==============================] - 7s 15ms/step - loss: 0.2384 - val_loss: 0.2343\n",
            "Epoch 96/100\n",
            "469/469 [==============================] - 7s 14ms/step - loss: 0.2405 - val_loss: 0.2322\n",
            "Epoch 97/100\n",
            "469/469 [==============================] - 7s 15ms/step - loss: 0.2342 - val_loss: 0.2316\n",
            "Epoch 98/100\n",
            "469/469 [==============================] - 7s 15ms/step - loss: 0.2295 - val_loss: 0.2238\n",
            "Epoch 99/100\n",
            "469/469 [==============================] - 8s 17ms/step - loss: 0.2408 - val_loss: 0.2401\n",
            "Epoch 100/100\n",
            "469/469 [==============================] - 8s 17ms/step - loss: 0.2453 - val_loss: 0.2369\n"
          ]
        },
        {
          "output_type": "execute_result",
          "data": {
            "text/plain": [
              "<keras.callbacks.History at 0x7f06e60f5c60>"
            ]
          },
          "metadata": {},
          "execution_count": 11
        }
      ]
    },
    {
      "cell_type": "code",
      "source": [
        "encoded_img = encoder.predict(x_test)\n",
        "decoded_img = autoencoder.predict(x_test)\n",
        "\n",
        "n = 10\n",
        "plt.figure(figsize=(20,4))\n",
        "\n",
        "for i in range(n):\n",
        "  ax = plt.subplot(2, n, i+1)\n",
        "  plt.imshow(x_test[i].reshape(28, 28))\n",
        "  plt.gray()\n",
        "\n",
        "  ax = plt.subplot(2, n, i+1+n)\n",
        "  plt.imshow(decoded_img[i].reshape(28, 28))\n",
        "  plt.gray()\n",
        "plt.show()"
      ],
      "metadata": {
        "colab": {
          "base_uri": "https://localhost:8080/",
          "height": 234
        },
        "id": "MFrYJEDBJxHR",
        "outputId": "bbc47add-cba9-4008-e97b-2ec1ab4495d7"
      },
      "execution_count": 12,
      "outputs": [
        {
          "output_type": "stream",
          "name": "stdout",
          "text": [
            "313/313 [==============================] - 1s 2ms/step\n",
            "313/313 [==============================] - 1s 2ms/step\n"
          ]
        },
        {
          "output_type": "display_data",
          "data": {
            "text/plain": [
              "<Figure size 2000x400 with 20 Axes>"
            ],
            "image/png": "[encoded data removed]"
          },
          "metadata": {}
        }
      ]
    },
    {
      "cell_type": "code",
      "source": [
        "# stable diffusion\n",
        "!pip install keras_cv"
      ],
      "metadata": {
        "colab": {
          "base_uri": "https://localhost:8080/"
        },
        "id": "Z_vRr1LkODfB",
        "outputId": "0abf4405-9cb8-4708-c7aa-67f8c1aa3301"
      },
      "execution_count": 13,
      "outputs": [
        {
          "output_type": "stream",
          "name": "stdout",
          "text": [
            "Collecting keras_cv\n",
            "  Downloading keras_cv-0.8.2-py3-none-any.whl (613 kB)\n",
            "\u001b[2K     \u001b[90m━━━━━━━━━━━━━━━━━━━━━━━━━━━━━━━━━━━━━━━━\u001b[0m \u001b[32m613.1/613.1 kB\u001b[0m \u001b[31m3.5 MB/s\u001b[0m eta \u001b[36m0:00:00\u001b[0m\n",
            "\u001b[?25hRequirement already satisfied: packaging in /usr/local/lib/python3.10/dist-packages (from keras_cv) (23.2)\n",
            "Requirement already satisfied: absl-py in /usr/local/lib/python3.10/dist-packages (from keras_cv) (1.4.0)\n",
            "Requirement already satisfied: regex in /usr/local/lib/python3.10/dist-packages (from keras_cv) (2023.12.25)\n",
            "Requirement already satisfied: tensorflow-datasets in /usr/local/lib/python3.10/dist-packages (from keras_cv) (4.9.4)\n",
            "Collecting keras-core (from keras_cv)\n",
            "  Downloading keras_core-0.1.7-py3-none-any.whl (950 kB)\n",
            "\u001b[2K     \u001b[90m━━━━━━━━━━━━━━━━━━━━━━━━━━━━━━━━━━━━━━━━\u001b[0m \u001b[32m950.8/950.8 kB\u001b[0m \u001b[31m17.6 MB/s\u001b[0m eta \u001b[36m0:00:00\u001b[0m\n",
            "\u001b[?25hRequirement already satisfied: kagglehub in /usr/local/lib/python3.10/dist-packages (from keras_cv) (0.1.8)\n",
            "Requirement already satisfied: requests in /usr/local/lib/python3.10/dist-packages (from kagglehub->keras_cv) (2.31.0)\n",
            "Requirement already satisfied: tqdm in /usr/local/lib/python3.10/dist-packages (from kagglehub->keras_cv) (4.66.1)\n",
            "Requirement already satisfied: numpy in /usr/local/lib/python3.10/dist-packages (from keras-core->keras_cv) (1.23.5)\n",
            "Requirement already satisfied: rich in /usr/local/lib/python3.10/dist-packages (from keras-core->keras_cv) (13.7.0)\n",
            "Collecting namex (from keras-core->keras_cv)\n",
            "  Downloading namex-0.0.7-py3-none-any.whl (5.8 kB)\n",
            "Requirement already satisfied: h5py in /usr/local/lib/python3.10/dist-packages (from keras-core->keras_cv) (3.9.0)\n",
            "Requirement already satisfied: dm-tree in /usr/local/lib/python3.10/dist-packages (from keras-core->keras_cv) (0.1.8)\n",
            "Requirement already satisfied: click in /usr/local/lib/python3.10/dist-packages (from tensorflow-datasets->keras_cv) (8.1.7)\n",
            "Requirement already satisfied: etils[enp,epath,etree]>=0.9.0 in /usr/local/lib/python3.10/dist-packages (from tensorflow-datasets->keras_cv) (1.6.0)\n",
            "Requirement already satisfied: promise in /usr/local/lib/python3.10/dist-packages (from tensorflow-datasets->keras_cv) (2.3)\n",
            "Requirement already satisfied: protobuf>=3.20 in /usr/local/lib/python3.10/dist-packages (from tensorflow-datasets->keras_cv) (3.20.3)\n",
            "Requirement already satisfied: psutil in /usr/local/lib/python3.10/dist-packages (from tensorflow-datasets->keras_cv) (5.9.5)\n",
            "Requirement already satisfied: tensorflow-metadata in /usr/local/lib/python3.10/dist-packages (from tensorflow-datasets->keras_cv) (1.14.0)\n",
            "Requirement already satisfied: termcolor in /usr/local/lib/python3.10/dist-packages (from tensorflow-datasets->keras_cv) (2.4.0)\n",
            "Requirement already satisfied: toml in /usr/local/lib/python3.10/dist-packages (from tensorflow-datasets->keras_cv) (0.10.2)\n",
            "Requirement already satisfied: wrapt in /usr/local/lib/python3.10/dist-packages (from tensorflow-datasets->keras_cv) (1.14.1)\n",
            "Requirement already satisfied: array-record>=0.5.0 in /usr/local/lib/python3.10/dist-packages (from tensorflow-datasets->keras_cv) (0.5.0)\n",
            "Requirement already satisfied: fsspec in /usr/local/lib/python3.10/dist-packages (from etils[enp,epath,etree]>=0.9.0->tensorflow-datasets->keras_cv) (2023.6.0)\n",
            "Requirement already satisfied: importlib_resources in /usr/local/lib/python3.10/dist-packages (from etils[enp,epath,etree]>=0.9.0->tensorflow-datasets->keras_cv) (6.1.1)\n",
            "Requirement already satisfied: typing_extensions in /usr/local/lib/python3.10/dist-packages (from etils[enp,epath,etree]>=0.9.0->tensorflow-datasets->keras_cv) (4.5.0)\n",
            "Requirement already satisfied: zipp in /usr/local/lib/python3.10/dist-packages (from etils[enp,epath,etree]>=0.9.0->tensorflow-datasets->keras_cv) (3.17.0)\n",
            "Requirement already satisfied: charset-normalizer<4,>=2 in /usr/local/lib/python3.10/dist-packages (from requests->kagglehub->keras_cv) (3.3.2)\n",
            "Requirement already satisfied: idna<4,>=2.5 in /usr/local/lib/python3.10/dist-packages (from requests->kagglehub->keras_cv) (3.6)\n",
            "Requirement already satisfied: urllib3<3,>=1.21.1 in /usr/local/lib/python3.10/dist-packages (from requests->kagglehub->keras_cv) (2.0.7)\n",
            "Requirement already satisfied: certifi>=2017.4.17 in /usr/local/lib/python3.10/dist-packages (from requests->kagglehub->keras_cv) (2023.11.17)\n",
            "Requirement already satisfied: six in /usr/local/lib/python3.10/dist-packages (from promise->tensorflow-datasets->keras_cv) (1.16.0)\n",
            "Requirement already satisfied: markdown-it-py>=2.2.0 in /usr/local/lib/python3.10/dist-packages (from rich->keras-core->keras_cv) (3.0.0)\n",
            "Requirement already satisfied: pygments<3.0.0,>=2.13.0 in /usr/local/lib/python3.10/dist-packages (from rich->keras-core->keras_cv) (2.16.1)\n",
            "Requirement already satisfied: googleapis-common-protos<2,>=1.52.0 in /usr/local/lib/python3.10/dist-packages (from tensorflow-metadata->tensorflow-datasets->keras_cv) (1.62.0)\n",
            "Requirement already satisfied: mdurl~=0.1 in /usr/local/lib/python3.10/dist-packages (from markdown-it-py>=2.2.0->rich->keras-core->keras_cv) (0.1.2)\n",
            "Installing collected packages: namex, keras-core, keras_cv\n",
            "Successfully installed keras-core-0.1.7 keras_cv-0.8.2 namex-0.0.7\n"
          ]
        }
      ]
    },
    {
      "cell_type": "code",
      "source": [
        "import time\n",
        "import keras_cv\n",
        "from tensorflow import keras"
      ],
      "metadata": {
        "colab": {
          "base_uri": "https://localhost:8080/"
        },
        "id": "ErGHODrTOMpG",
        "outputId": "9e43bfb0-3eb3-4c43-dc9e-77c66c1bd3da"
      },
      "execution_count": 14,
      "outputs": [
        {
          "output_type": "stream",
          "name": "stdout",
          "text": [
            "Using TensorFlow backend\n"
          ]
        }
      ]
    },
    {
      "cell_type": "code",
      "source": [
        "stable_model = keras_cv.models.StableDiffusion()"
      ],
      "metadata": {
        "colab": {
          "base_uri": "https://localhost:8080/"
        },
        "id": "jrZ88FXGOS8l",
        "outputId": "9c3b9db0-23e6-43c4-d509-e81f2ae04357"
      },
      "execution_count": 15,
      "outputs": [
        {
          "output_type": "stream",
          "name": "stdout",
          "text": [
            "By using this model checkpoint, you acknowledge that its usage is subject to the terms of the CreativeML Open RAIL-M license at https://raw.githubusercontent.com/CompVis/stable-diffusion/main/LICENSE\n"
          ]
        }
      ]
    },
    {
      "cell_type": "code",
      "source": [
        "images = stable_model.text_to_image('Hatsune_miku')\n",
        "images"
      ],
      "metadata": {
        "colab": {
          "base_uri": "https://localhost:8080/",
          "height": 502
        },
        "id": "ID1GZvLCOtuz",
        "outputId": "bdb473a2-b00b-4182-fc3c-d13ae42003c5"
      },
      "execution_count": 16,
      "outputs": [
        {
          "output_type": "stream",
          "name": "stdout",
          "text": [
            "Downloading data from https://github.com/openai/CLIP/blob/main/clip/bpe_simple_vocab_16e6.txt.gz?raw=true\n",
            "1356917/1356917 [==============================] - 0s 0us/step\n",
            "Downloading data from https://huggingface.co/fchollet/stable-diffusion/resolve/main/kcv_encoder.h5\n",
            "492466864/492466864 [==============================] - 7s 0us/step\n",
            "Downloading data from https://huggingface.co/fchollet/stable-diffusion/resolve/main/kcv_diffusion_model.h5\n",
            "3439090152/3439090152 [==============================] - 51s 0us/step\n",
            " 1/50 [..............................] - ETA: 3:11:42"
          ]
        },
        {
          "output_type": "error",
          "ename": "KeyboardInterrupt",
          "evalue": "",
          "traceback": [
            "\u001b[0;31m---------------------------------------------------------------------------\u001b[0m",
            "\u001b[0;31mKeyboardInterrupt\u001b[0m                         Traceback (most recent call last)",
            "\u001b[0;32m<ipython-input-16-ba424667185c>\u001b[0m in \u001b[0;36m<cell line: 1>\u001b[0;34m()\u001b[0m\n\u001b[0;32m----> 1\u001b[0;31m \u001b[0mimages\u001b[0m \u001b[0;34m=\u001b[0m \u001b[0mstable_model\u001b[0m\u001b[0;34m.\u001b[0m\u001b[0mtext_to_image\u001b[0m\u001b[0;34m(\u001b[0m\u001b[0;34m'Hatsune_miku'\u001b[0m\u001b[0;34m)\u001b[0m\u001b[0;34m\u001b[0m\u001b[0;34m\u001b[0m\u001b[0m\n\u001b[0m\u001b[1;32m      2\u001b[0m \u001b[0mimages\u001b[0m\u001b[0;34m\u001b[0m\u001b[0;34m\u001b[0m\u001b[0m\n",
            "\u001b[0;32m/usr/local/lib/python3.10/dist-packages/keras_cv/src/models/stable_diffusion/stable_diffusion.py\u001b[0m in \u001b[0;36mtext_to_image\u001b[0;34m(self, prompt, negative_prompt, batch_size, num_steps, unconditional_guidance_scale, seed)\u001b[0m\n\u001b[1;32m     81\u001b[0m         \u001b[0mencoded_text\u001b[0m \u001b[0;34m=\u001b[0m \u001b[0mself\u001b[0m\u001b[0;34m.\u001b[0m\u001b[0mencode_text\u001b[0m\u001b[0;34m(\u001b[0m\u001b[0mprompt\u001b[0m\u001b[0;34m)\u001b[0m\u001b[0;34m\u001b[0m\u001b[0;34m\u001b[0m\u001b[0m\n\u001b[1;32m     82\u001b[0m \u001b[0;34m\u001b[0m\u001b[0m\n\u001b[0;32m---> 83\u001b[0;31m         return self.generate_image(\n\u001b[0m\u001b[1;32m     84\u001b[0m             \u001b[0mencoded_text\u001b[0m\u001b[0;34m,\u001b[0m\u001b[0;34m\u001b[0m\u001b[0;34m\u001b[0m\u001b[0m\n\u001b[1;32m     85\u001b[0m             \u001b[0mnegative_prompt\u001b[0m\u001b[0;34m=\u001b[0m\u001b[0mnegative_prompt\u001b[0m\u001b[0;34m,\u001b[0m\u001b[0;34m\u001b[0m\u001b[0;34m\u001b[0m\u001b[0m\n",
            "\u001b[0;32m/usr/local/lib/python3.10/dist-packages/keras_cv/src/models/stable_diffusion/stable_diffusion.py\u001b[0m in \u001b[0;36mgenerate_image\u001b[0;34m(self, encoded_text, negative_prompt, batch_size, num_steps, unconditional_guidance_scale, diffusion_noise, seed)\u001b[0m\n\u001b[1;32m    227\u001b[0m                 }\n\u001b[1;32m    228\u001b[0m             )\n\u001b[0;32m--> 229\u001b[0;31m             latent = self.diffusion_model.predict_on_batch(\n\u001b[0m\u001b[1;32m    230\u001b[0m                 {\n\u001b[1;32m    231\u001b[0m                     \u001b[0;34m\"latent\"\u001b[0m\u001b[0;34m:\u001b[0m \u001b[0mlatent\u001b[0m\u001b[0;34m,\u001b[0m\u001b[0;34m\u001b[0m\u001b[0;34m\u001b[0m\u001b[0m\n",
            "\u001b[0;32m/usr/local/lib/python3.10/dist-packages/keras/engine/training.py\u001b[0m in \u001b[0;36mpredict_on_batch\u001b[0;34m(self, x)\u001b[0m\n\u001b[1;32m   2601\u001b[0m             )\n\u001b[1;32m   2602\u001b[0m             \u001b[0mself\u001b[0m\u001b[0;34m.\u001b[0m\u001b[0mpredict_function\u001b[0m \u001b[0;34m=\u001b[0m \u001b[0mself\u001b[0m\u001b[0;34m.\u001b[0m\u001b[0mmake_predict_function\u001b[0m\u001b[0;34m(\u001b[0m\u001b[0;34m)\u001b[0m\u001b[0;34m\u001b[0m\u001b[0;34m\u001b[0m\u001b[0m\n\u001b[0;32m-> 2603\u001b[0;31m             \u001b[0moutputs\u001b[0m \u001b[0;34m=\u001b[0m \u001b[0mself\u001b[0m\u001b[0;34m.\u001b[0m\u001b[0mpredict_function\u001b[0m\u001b[0;34m(\u001b[0m\u001b[0miterator\u001b[0m\u001b[0;34m)\u001b[0m\u001b[0;34m\u001b[0m\u001b[0;34m\u001b[0m\u001b[0m\n\u001b[0m\u001b[1;32m   2604\u001b[0m         \u001b[0;32mreturn\u001b[0m \u001b[0mtf_utils\u001b[0m\u001b[0;34m.\u001b[0m\u001b[0msync_to_numpy_or_python_type\u001b[0m\u001b[0;34m(\u001b[0m\u001b[0moutputs\u001b[0m\u001b[0;34m)\u001b[0m\u001b[0;34m\u001b[0m\u001b[0;34m\u001b[0m\u001b[0m\n\u001b[1;32m   2605\u001b[0m \u001b[0;34m\u001b[0m\u001b[0m\n",
            "\u001b[0;32m/usr/local/lib/python3.10/dist-packages/tensorflow/python/util/traceback_utils.py\u001b[0m in \u001b[0;36merror_handler\u001b[0;34m(*args, **kwargs)\u001b[0m\n\u001b[1;32m    148\u001b[0m     \u001b[0mfiltered_tb\u001b[0m \u001b[0;34m=\u001b[0m \u001b[0;32mNone\u001b[0m\u001b[0;34m\u001b[0m\u001b[0;34m\u001b[0m\u001b[0m\n\u001b[1;32m    149\u001b[0m     \u001b[0;32mtry\u001b[0m\u001b[0;34m:\u001b[0m\u001b[0;34m\u001b[0m\u001b[0;34m\u001b[0m\u001b[0m\n\u001b[0;32m--> 150\u001b[0;31m       \u001b[0;32mreturn\u001b[0m \u001b[0mfn\u001b[0m\u001b[0;34m(\u001b[0m\u001b[0;34m*\u001b[0m\u001b[0margs\u001b[0m\u001b[0;34m,\u001b[0m \u001b[0;34m**\u001b[0m\u001b[0mkwargs\u001b[0m\u001b[0;34m)\u001b[0m\u001b[0;34m\u001b[0m\u001b[0;34m\u001b[0m\u001b[0m\n\u001b[0m\u001b[1;32m    151\u001b[0m     \u001b[0;32mexcept\u001b[0m \u001b[0mException\u001b[0m \u001b[0;32mas\u001b[0m \u001b[0me\u001b[0m\u001b[0;34m:\u001b[0m\u001b[0;34m\u001b[0m\u001b[0;34m\u001b[0m\u001b[0m\n\u001b[1;32m    152\u001b[0m       \u001b[0mfiltered_tb\u001b[0m \u001b[0;34m=\u001b[0m \u001b[0m_process_traceback_frames\u001b[0m\u001b[0;34m(\u001b[0m\u001b[0me\u001b[0m\u001b[0;34m.\u001b[0m\u001b[0m__traceback__\u001b[0m\u001b[0;34m)\u001b[0m\u001b[0;34m\u001b[0m\u001b[0;34m\u001b[0m\u001b[0m\n",
            "\u001b[0;32m/usr/local/lib/python3.10/dist-packages/tensorflow/python/eager/polymorphic_function/polymorphic_function.py\u001b[0m in \u001b[0;36m__call__\u001b[0;34m(self, *args, **kwds)\u001b[0m\n\u001b[1;32m    892\u001b[0m \u001b[0;34m\u001b[0m\u001b[0m\n\u001b[1;32m    893\u001b[0m       \u001b[0;32mwith\u001b[0m \u001b[0mOptionalXlaContext\u001b[0m\u001b[0;34m(\u001b[0m\u001b[0mself\u001b[0m\u001b[0;34m.\u001b[0m\u001b[0m_jit_compile\u001b[0m\u001b[0;34m)\u001b[0m\u001b[0;34m:\u001b[0m\u001b[0;34m\u001b[0m\u001b[0;34m\u001b[0m\u001b[0m\n\u001b[0;32m--> 894\u001b[0;31m         \u001b[0mresult\u001b[0m \u001b[0;34m=\u001b[0m \u001b[0mself\u001b[0m\u001b[0;34m.\u001b[0m\u001b[0m_call\u001b[0m\u001b[0;34m(\u001b[0m\u001b[0;34m*\u001b[0m\u001b[0margs\u001b[0m\u001b[0;34m,\u001b[0m \u001b[0;34m**\u001b[0m\u001b[0mkwds\u001b[0m\u001b[0;34m)\u001b[0m\u001b[0;34m\u001b[0m\u001b[0;34m\u001b[0m\u001b[0m\n\u001b[0m\u001b[1;32m    895\u001b[0m \u001b[0;34m\u001b[0m\u001b[0m\n\u001b[1;32m    896\u001b[0m       \u001b[0mnew_tracing_count\u001b[0m \u001b[0;34m=\u001b[0m \u001b[0mself\u001b[0m\u001b[0;34m.\u001b[0m\u001b[0mexperimental_get_tracing_count\u001b[0m\u001b[0;34m(\u001b[0m\u001b[0;34m)\u001b[0m\u001b[0;34m\u001b[0m\u001b[0;34m\u001b[0m\u001b[0m\n",
            "\u001b[0;32m/usr/local/lib/python3.10/dist-packages/tensorflow/python/eager/polymorphic_function/polymorphic_function.py\u001b[0m in \u001b[0;36m_call\u001b[0;34m(self, *args, **kwds)\u001b[0m\n\u001b[1;32m    931\u001b[0m       \u001b[0;31m# In this case we have not created variables on the first call. So we can\u001b[0m\u001b[0;34m\u001b[0m\u001b[0;34m\u001b[0m\u001b[0m\n\u001b[1;32m    932\u001b[0m       \u001b[0;31m# run the first trace but we should fail if variables are created.\u001b[0m\u001b[0;34m\u001b[0m\u001b[0;34m\u001b[0m\u001b[0m\n\u001b[0;32m--> 933\u001b[0;31m       \u001b[0mresults\u001b[0m \u001b[0;34m=\u001b[0m \u001b[0mself\u001b[0m\u001b[0;34m.\u001b[0m\u001b[0m_variable_creation_fn\u001b[0m\u001b[0;34m(\u001b[0m\u001b[0;34m*\u001b[0m\u001b[0margs\u001b[0m\u001b[0;34m,\u001b[0m \u001b[0;34m**\u001b[0m\u001b[0mkwds\u001b[0m\u001b[0;34m)\u001b[0m\u001b[0;34m\u001b[0m\u001b[0;34m\u001b[0m\u001b[0m\n\u001b[0m\u001b[1;32m    934\u001b[0m       \u001b[0;32mif\u001b[0m \u001b[0mself\u001b[0m\u001b[0;34m.\u001b[0m\u001b[0m_created_variables\u001b[0m \u001b[0;32mand\u001b[0m \u001b[0;32mnot\u001b[0m \u001b[0mALLOW_DYNAMIC_VARIABLE_CREATION\u001b[0m\u001b[0;34m:\u001b[0m\u001b[0;34m\u001b[0m\u001b[0;34m\u001b[0m\u001b[0m\n\u001b[1;32m    935\u001b[0m         raise ValueError(\"Creating variables on a non-first call to a function\"\n",
            "\u001b[0;32m/usr/local/lib/python3.10/dist-packages/tensorflow/python/eager/polymorphic_function/tracing_compiler.py\u001b[0m in \u001b[0;36m__call__\u001b[0;34m(self, *args, **kwargs)\u001b[0m\n\u001b[1;32m    141\u001b[0m       (concrete_function,\n\u001b[1;32m    142\u001b[0m        filtered_flat_args) = self._maybe_define_function(args, kwargs)\n\u001b[0;32m--> 143\u001b[0;31m     return concrete_function._call_flat(\n\u001b[0m\u001b[1;32m    144\u001b[0m         filtered_flat_args, captured_inputs=concrete_function.captured_inputs)  # pylint: disable=protected-access\n\u001b[1;32m    145\u001b[0m \u001b[0;34m\u001b[0m\u001b[0m\n",
            "\u001b[0;32m/usr/local/lib/python3.10/dist-packages/tensorflow/python/eager/polymorphic_function/monomorphic_function.py\u001b[0m in \u001b[0;36m_call_flat\u001b[0;34m(self, args, captured_inputs, cancellation_manager)\u001b[0m\n\u001b[1;32m   1755\u001b[0m         and executing_eagerly):\n\u001b[1;32m   1756\u001b[0m       \u001b[0;31m# No tape is watching; skip to running the function.\u001b[0m\u001b[0;34m\u001b[0m\u001b[0;34m\u001b[0m\u001b[0m\n\u001b[0;32m-> 1757\u001b[0;31m       return self._build_call_outputs(self._inference_function.call(\n\u001b[0m\u001b[1;32m   1758\u001b[0m           ctx, args, cancellation_manager=cancellation_manager))\n\u001b[1;32m   1759\u001b[0m     forward_backward = self._select_forward_and_backward_functions(\n",
            "\u001b[0;32m/usr/local/lib/python3.10/dist-packages/tensorflow/python/eager/polymorphic_function/monomorphic_function.py\u001b[0m in \u001b[0;36mcall\u001b[0;34m(self, ctx, args, cancellation_manager)\u001b[0m\n\u001b[1;32m    379\u001b[0m       \u001b[0;32mwith\u001b[0m \u001b[0m_InterpolateFunctionError\u001b[0m\u001b[0;34m(\u001b[0m\u001b[0mself\u001b[0m\u001b[0;34m)\u001b[0m\u001b[0;34m:\u001b[0m\u001b[0;34m\u001b[0m\u001b[0;34m\u001b[0m\u001b[0m\n\u001b[1;32m    380\u001b[0m         \u001b[0;32mif\u001b[0m \u001b[0mcancellation_manager\u001b[0m \u001b[0;32mis\u001b[0m \u001b[0;32mNone\u001b[0m\u001b[0;34m:\u001b[0m\u001b[0;34m\u001b[0m\u001b[0;34m\u001b[0m\u001b[0m\n\u001b[0;32m--> 381\u001b[0;31m           outputs = execute.execute(\n\u001b[0m\u001b[1;32m    382\u001b[0m               \u001b[0mstr\u001b[0m\u001b[0;34m(\u001b[0m\u001b[0mself\u001b[0m\u001b[0;34m.\u001b[0m\u001b[0msignature\u001b[0m\u001b[0;34m.\u001b[0m\u001b[0mname\u001b[0m\u001b[0;34m)\u001b[0m\u001b[0;34m,\u001b[0m\u001b[0;34m\u001b[0m\u001b[0;34m\u001b[0m\u001b[0m\n\u001b[1;32m    383\u001b[0m               \u001b[0mnum_outputs\u001b[0m\u001b[0;34m=\u001b[0m\u001b[0mself\u001b[0m\u001b[0;34m.\u001b[0m\u001b[0m_num_outputs\u001b[0m\u001b[0;34m,\u001b[0m\u001b[0;34m\u001b[0m\u001b[0;34m\u001b[0m\u001b[0m\n",
            "\u001b[0;32m/usr/local/lib/python3.10/dist-packages/tensorflow/python/eager/execute.py\u001b[0m in \u001b[0;36mquick_execute\u001b[0;34m(op_name, num_outputs, inputs, attrs, ctx, name)\u001b[0m\n\u001b[1;32m     50\u001b[0m   \u001b[0;32mtry\u001b[0m\u001b[0;34m:\u001b[0m\u001b[0;34m\u001b[0m\u001b[0;34m\u001b[0m\u001b[0m\n\u001b[1;32m     51\u001b[0m     \u001b[0mctx\u001b[0m\u001b[0;34m.\u001b[0m\u001b[0mensure_initialized\u001b[0m\u001b[0;34m(\u001b[0m\u001b[0;34m)\u001b[0m\u001b[0;34m\u001b[0m\u001b[0;34m\u001b[0m\u001b[0m\n\u001b[0;32m---> 52\u001b[0;31m     tensors = pywrap_tfe.TFE_Py_Execute(ctx._handle, device_name, op_name,\n\u001b[0m\u001b[1;32m     53\u001b[0m                                         inputs, attrs, num_outputs)\n\u001b[1;32m     54\u001b[0m   \u001b[0;32mexcept\u001b[0m \u001b[0mcore\u001b[0m\u001b[0;34m.\u001b[0m\u001b[0m_NotOkStatusException\u001b[0m \u001b[0;32mas\u001b[0m \u001b[0me\u001b[0m\u001b[0;34m:\u001b[0m\u001b[0;34m\u001b[0m\u001b[0;34m\u001b[0m\u001b[0m\n",
            "\u001b[0;31mKeyboardInterrupt\u001b[0m: "
          ]
        }
      ]
    },
    {
      "cell_type": "code",
      "source": [
        "def plot_images(images):\n",
        "  plt.figure(figsize=(20, 20))\n",
        "  for i in range(len(images)):\n",
        "    ax = plt.subplot(1, len(images), i+1)\n",
        "    plt.imshow(images[i])\n",
        "\n",
        "plot_images(images)"
      ],
      "metadata": {
        "colab": {
          "base_uri": "https://localhost:8080/",
          "height": 147
        },
        "id": "7i4ITKz6Q8Tb",
        "outputId": "9febb0a7-9770-4980-b336-3f3437826d8e"
      },
      "execution_count": 17,
      "outputs": [
        {
          "output_type": "error",
          "ename": "SyntaxError",
          "evalue": "incomplete input (<ipython-input-17-31a6254f92d5>, line 3)",
          "traceback": [
            "\u001b[0;36m  File \u001b[0;32m\"<ipython-input-17-31a6254f92d5>\"\u001b[0;36m, line \u001b[0;32m3\u001b[0m\n\u001b[0;31m    for i in range(len(images)):\u001b[0m\n\u001b[0m                                ^\u001b[0m\n\u001b[0;31mSyntaxError\u001b[0m\u001b[0;31m:\u001b[0m incomplete input\n"
          ]
        }
      ]
    },
    {
      "cell_type": "code",
      "source": [
        "images = stable_model.text_to_image('Picasso stype cat photos')\n",
        "plot_images(images)"
      ],
      "metadata": {
        "id": "FcWl_6BkRLyk"
      },
      "execution_count": null,
      "outputs": []
    }
  ]
}